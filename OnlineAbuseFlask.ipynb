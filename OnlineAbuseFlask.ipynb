{
  "nbformat": 4,
  "nbformat_minor": 0,
  "metadata": {
    "colab": {
      "name": "OnlineAbuseFlask.ipynb",
      "provenance": []
    },
    "kernelspec": {
      "name": "python3",
      "display_name": "Python 3"
    },
    "language_info": {
      "name": "python"
    }
  },
  "cells": [
    {
      "cell_type": "code",
      "metadata": {
        "colab": {
          "base_uri": "https://localhost:8080/"
        },
        "id": "-D5j2iv0Ubtz",
        "outputId": "f68b07a0-845a-422b-ba71-423bcf6246f1"
      },
      "source": [
        "!pip install flask-ngrok"
      ],
      "execution_count": null,
      "outputs": [
        {
          "output_type": "stream",
          "text": [
            "Collecting flask-ngrok\n",
            "  Downloading https://files.pythonhosted.org/packages/af/6c/f54cb686ad1129e27d125d182f90f52b32f284e6c8df58c1bae54fa1adbc/flask_ngrok-0.0.25-py3-none-any.whl\n",
            "Requirement already satisfied: Flask>=0.8 in /usr/local/lib/python3.7/dist-packages (from flask-ngrok) (1.1.2)\n",
            "Requirement already satisfied: requests in /usr/local/lib/python3.7/dist-packages (from flask-ngrok) (2.23.0)\n",
            "Requirement already satisfied: Jinja2>=2.10.1 in /usr/local/lib/python3.7/dist-packages (from Flask>=0.8->flask-ngrok) (2.11.3)\n",
            "Requirement already satisfied: Werkzeug>=0.15 in /usr/local/lib/python3.7/dist-packages (from Flask>=0.8->flask-ngrok) (1.0.1)\n",
            "Requirement already satisfied: click>=5.1 in /usr/local/lib/python3.7/dist-packages (from Flask>=0.8->flask-ngrok) (7.1.2)\n",
            "Requirement already satisfied: itsdangerous>=0.24 in /usr/local/lib/python3.7/dist-packages (from Flask>=0.8->flask-ngrok) (1.1.0)\n",
            "Requirement already satisfied: idna<3,>=2.5 in /usr/local/lib/python3.7/dist-packages (from requests->flask-ngrok) (2.10)\n",
            "Requirement already satisfied: chardet<4,>=3.0.2 in /usr/local/lib/python3.7/dist-packages (from requests->flask-ngrok) (3.0.4)\n",
            "Requirement already satisfied: urllib3!=1.25.0,!=1.25.1,<1.26,>=1.21.1 in /usr/local/lib/python3.7/dist-packages (from requests->flask-ngrok) (1.24.3)\n",
            "Requirement already satisfied: certifi>=2017.4.17 in /usr/local/lib/python3.7/dist-packages (from requests->flask-ngrok) (2020.12.5)\n",
            "Requirement already satisfied: MarkupSafe>=0.23 in /usr/local/lib/python3.7/dist-packages (from Jinja2>=2.10.1->Flask>=0.8->flask-ngrok) (1.1.1)\n",
            "Installing collected packages: flask-ngrok\n",
            "Successfully installed flask-ngrok-0.0.25\n"
          ],
          "name": "stdout"
        }
      ]
    },
    {
      "cell_type": "code",
      "metadata": {
        "colab": {
          "base_uri": "https://localhost:8080/"
        },
        "id": "3pOQVua7V_Df",
        "outputId": "c5d12b04-fade-4eeb-bad5-19ccc62fbbd7"
      },
      "source": [
        "from flask import Flask\n",
        "from flask_ngrok import run_with_ngrok\n",
        "from flask import render_template, url_for, request, jsonify      \n",
        "from sklearn.feature_extraction.text import CountVectorizer, TfidfVectorizer \n",
        "import pickle\n",
        "import numpy as np\n",
        "import pandas as pd\n",
        "from csv import writer\n",
        "\n",
        "app = Flask(__name__,template_folder='/content/drive/MyDrive/MINOR2/Flask app/templates')\n",
        "run_with_ngrok(app)\n",
        "\n",
        "\n",
        "with open(r\"/content/drive/MyDrive/MINOR2/Flask app/toxic_vect.pkl\", \"rb\") as f:\n",
        "    tox = pickle.load(f)\n",
        "\n",
        "with open(r\"/content/drive/MyDrive/MINOR2/Flask app/severe_toxic_vect.pkl\", \"rb\") as f:\n",
        "    sev = pickle.load(f)\n",
        "\n",
        "with open(r\"/content/drive/MyDrive/MINOR2/Flask app/obscene_vect.pkl\", \"rb\") as f:\n",
        "    obs = pickle.load(f)\n",
        "\n",
        "with open(r\"/content/drive/MyDrive/MINOR2/Flask app/insult_vect.pkl\", \"rb\") as f:\n",
        "    ins = pickle.load(f)\n",
        "\n",
        "with open(r\"/content/drive/MyDrive/MINOR2/Flask app/threat_vect.pkl\", \"rb\") as f:\n",
        "    thr = pickle.load(f)\n",
        "\n",
        "with open(r\"/content/drive/MyDrive/MINOR2/Flask app/identity_hate_vect.pkl\", \"rb\") as f:\n",
        "    ide = pickle.load(f)\n",
        "\n",
        "with open(r\"/content/drive/MyDrive/MINOR2/Flask app/toxic_model.pkl\", \"rb\") as f:\n",
        "    tox_model = pickle.load(f)\n",
        "\n",
        "with open(r\"/content/drive/MyDrive/MINOR2/Flask app/severe_toxic_model.pkl\", \"rb\") as f:\n",
        "    sev_model = pickle.load(f)\n",
        "\n",
        "with open(r\"/content/drive/MyDrive/MINOR2/Flask app/obscene_model.pkl\", \"rb\") as f:\n",
        "    obs_model  = pickle.load(f)\n",
        "\n",
        "with open(r\"/content/drive/MyDrive/MINOR2/Flask app/insult_model.pkl\", \"rb\") as f:\n",
        "    ins_model  = pickle.load(f)\n",
        "\n",
        "with open(r\"/content/drive/MyDrive/MINOR2/Flask app/threat_model.pkl\", \"rb\") as f:\n",
        "    thr_model  = pickle.load(f)\n",
        "\n",
        "with open(r\"/content/drive/MyDrive/MINOR2/Flask app/identity_hate_model.pkl\", \"rb\") as f:\n",
        "    ide_model  = pickle.load(f)\n",
        "\n",
        "@app.route(\"/\")\n",
        "def home():\n",
        "    return render_template('index_toxic.html')\n",
        "\n",
        "@app.route(\"/predict\", methods=['POST'])\n",
        "def predict():\n",
        "    \n",
        "    # Take a string input from user\n",
        "    user_input = request.form['text']\n",
        "    data = [user_input]\n",
        "\n",
        "    vect = tox.transform(data)\n",
        "    pred_tox_p = tox_model.predict_proba(vect)[:,1]\n",
        "    pred_tox = tox_model.predict(vect)[0]\n",
        "\n",
        "\n",
        "    vect = sev.transform(data)\n",
        "    pred_sev_p = sev_model.predict_proba(vect)[:,1]\n",
        "    pred_sev = sev_model.predict(vect)[0]\n",
        "\n",
        "\n",
        "    vect = obs.transform(data)\n",
        "    pred_obs_p = obs_model.predict_proba(vect)[:,1]\n",
        "    pred_obs = obs_model.predict(vect)[0]\n",
        "\n",
        "    vect = thr.transform(data)\n",
        "    pred_thr_p = thr_model.predict_proba(vect)[:,1]\n",
        "    pred_thr = thr_model.predict(vect)[0]\n",
        "\n",
        "    vect = ins.transform(data)\n",
        "    pred_ins_p = ins_model.predict_proba(vect)[:,1]\n",
        "    pred_ins = ins_model.predict(vect)[0]\n",
        "\n",
        "    vect = ide.transform(data)\n",
        "    pred_ide_p = ide_model.predict_proba(vect)[:,1]\n",
        "    pred_ide = ide_model.predict(vect)[0]\n",
        "\n",
        "    out_tox = round(pred_tox_p[0], 2)\n",
        "    out_sev = round(pred_sev_p[0], 2)\n",
        "    out_obs = round(pred_obs_p[0], 2)\n",
        "    out_ins = round(pred_ins_p[0], 2)\n",
        "    out_thr = round(pred_thr_p[0], 2)\n",
        "    out_ide = round(pred_ide_p[0], 2)\n",
        "    _tox= \"Yes\" if pred_tox==1 else \"No\"\n",
        "    _sev= \"Yes\" if pred_sev==1 else \"No\"\n",
        "    _obs= \"Yes\" if pred_obs==1 else \"No\"\n",
        "    _ins= \"Yes\" if pred_ins==1 else \"No\"\n",
        "    _thr= \"Yes\" if pred_thr==1 else \"No\"\n",
        "    _ide= \"Yes\" if pred_ide==1 else \"No\"\n",
        "\n",
        "    print(out_tox)\n",
        "    print(pred_tox)\n",
        "\n",
        "    return render_template('index_toxic.html', \n",
        "                            pred_tox = 'Prob (Toxic): {}'.format(out_tox),\n",
        "                            pred_sev = 'Prob (Severe Toxic): {}'.format(out_sev), \n",
        "                            pred_obs = 'Prob (Obscene): {}'.format(out_obs),\n",
        "                            pred_ins = 'Prob (Insult): {}'.format(out_ins),\n",
        "                            pred_thr = 'Prob (Threat): {}'.format(out_thr),\n",
        "                            pred_ide = 'Prob (Identity Hate): {}'.format(out_ide),\n",
        "                            _tox='Toxic: {}'.format(_tox),\n",
        "                           _sev='Severe Toxic: {}'.format(_sev),\n",
        "                           _obs='Obscene: {}'.format(_obs),\n",
        "                           _ins='Insult: {}'.format(_ins),\n",
        "                           _thr='Threat: {}'.format(_thr),\n",
        "                           _ide='Identity Hate: {}'.format(_ide)\n",
        "                                                   \n",
        "                            )\n",
        "     \n",
        "@app.route(\"/addtodatabase\", methods=['POST'])\n",
        "def addtodatabase():\n",
        "   return render_template('addtodatabase.html')\n",
        "\n",
        "@app.route(\"/addtodatabase/addinfo\", methods=['GET','POST'])\n",
        "def addinfo():\n",
        "  \n",
        "  comment=request.form['text']\n",
        "  tox=request.form['toxic']\n",
        "  severe=request.form['severe']\n",
        "  obs=request.form['obs']\n",
        "  ins=request.form['ins']\n",
        "  thr=request.form['thr']\n",
        "  ide=request.form['ide']\n",
        "  df=pd.read_csv(\"/content/drive/MyDrive/MINOR2/Flask app/toxicdataextra.csv\")\n",
        "  id=int(df.iloc[-1][0])+1\n",
        "  data=[id,comment,tox,severe,obs,ins,thr,ide]\n",
        "  with open('/content/drive/MyDrive/MINOR2/Flask app/toxicdataextra.csv','a') as f_obj:\n",
        "    writer_obj=writer(f_obj)\n",
        "    writer_obj.writerow(data)\n",
        "    f_obj.close()\n",
        "  #df=df.append({\"id\":id,\"comment_text\":comment,\"toxic\":tox,\"severe_toxic\":severe,\"obscene\":obs,\"insult\":ins,\"threat\":thr,\"identity_hate\":ide},ignore_index=True)\n",
        "  df.loc[len(df.index)]=[id,comment,tox,severe,obs,ins,thr,ide]\n",
        " \n",
        "  df.to_csv(\"toxicdataextra.csv\",index=False)\n",
        "  print(df)\n",
        "  return render_template('addtodatabase.html',res='Thanks for your Contribution.Data Added Successfully!')   \n",
        "\n",
        "@app.route(\"/\")\n",
        "def goback():\n",
        "   return render_template('index_toxic.html')\n",
        "app.run()"
      ],
      "execution_count": null,
      "outputs": [
        {
          "output_type": "stream",
          "text": [
            " * Serving Flask app \"__main__\" (lazy loading)\n",
            " * Environment: production\n",
            "\u001b[31m   WARNING: This is a development server. Do not use it in a production deployment.\u001b[0m\n",
            "\u001b[2m   Use a production WSGI server instead.\u001b[0m\n",
            " * Debug mode: off\n"
          ],
          "name": "stdout"
        },
        {
          "output_type": "stream",
          "text": [
            " * Running on http://127.0.0.1:5000/ (Press CTRL+C to quit)\n"
          ],
          "name": "stderr"
        },
        {
          "output_type": "stream",
          "text": [
            " * Running on http://ed0bd0fdec3f.ngrok.io\n",
            " * Traffic stats available on http://127.0.0.1:4040\n"
          ],
          "name": "stdout"
        },
        {
          "output_type": "stream",
          "text": [
            "127.0.0.1 - - [04/May/2021 05:19:32] \"\u001b[37mGET / HTTP/1.1\u001b[0m\" 200 -\n",
            "127.0.0.1 - - [04/May/2021 05:19:35] \"\u001b[33mGET /favicon.ico HTTP/1.1\u001b[0m\" 404 -\n",
            "127.0.0.1 - - [04/May/2021 05:19:54] \"\u001b[37mPOST /predict HTTP/1.1\u001b[0m\" 200 -\n"
          ],
          "name": "stderr"
        },
        {
          "output_type": "stream",
          "text": [
            "1.0\n",
            "1\n"
          ],
          "name": "stdout"
        },
        {
          "output_type": "stream",
          "text": [
            "127.0.0.1 - - [04/May/2021 05:20:13] \"\u001b[37mPOST /addtodatabase HTTP/1.1\u001b[0m\" 200 -\n",
            "127.0.0.1 - - [04/May/2021 05:20:53] \"\u001b[37mPOST /addtodatabase/addinfo HTTP/1.1\u001b[0m\" 200 -\n"
          ],
          "name": "stderr"
        },
        {
          "output_type": "stream",
          "text": [
            "   id                     comment_text toxic  ... threat insult identity_hate\n",
            "0    1             you are so dead now     1  ...      1      0             0\n",
            "1    2                        fuck you     1  ...      1      1             0\n",
            "2    3               you are so pretty     0  ...      0      0             0\n",
            "3    4               You piece of shit     1  ...      1      0             1\n",
            "4    5  why don't you go kill yourself     1  ...      0      1             1\n",
            "\n",
            "[5 rows x 8 columns]\n"
          ],
          "name": "stdout"
        },
        {
          "output_type": "stream",
          "text": [
            "127.0.0.1 - - [04/May/2021 05:21:02] \"\u001b[37mGET / HTTP/1.1\u001b[0m\" 200 -\n"
          ],
          "name": "stderr"
        }
      ]
    },
    {
      "cell_type": "markdown",
      "metadata": {
        "id": "VnAlyteOk8_c"
      },
      "source": [
        ""
      ]
    },
    {
      "cell_type": "code",
      "metadata": {
        "id": "ACSgl9e1Z8Z9"
      },
      "source": [
        ""
      ],
      "execution_count": null,
      "outputs": []
    }
  ]
}